{
 "cells": [
  {
   "cell_type": "code",
   "execution_count": 1,
   "metadata": {},
   "outputs": [],
   "source": [
    "import pickle"
   ]
  },
  {
   "cell_type": "code",
   "execution_count": 2,
   "metadata": {},
   "outputs": [],
   "source": [
    "# read in model, make sure model is in same folder as this Jupyter-notebook\n",
    "filename = 'prediction_model.sav'\n",
    "est = pickle.load(open(filename, 'rb'))"
   ]
  },
  {
   "cell_type": "code",
   "execution_count": 3,
   "metadata": {},
   "outputs": [],
   "source": [
    "# enter patient variables to generate prediction for weak response\n",
    "# variable format: ['Gender' (1=male ,2=female), 'Age_DBS' (in years), 'Disease_duration', 'Age_disease_onset',\n",
    "#          'UPDRS.I_pre_on',   'UPDRS.II_pre_on', \n",
    "#          'UPDRS.III_pre_on','UPDRS.III_pre_LEDdif'   , \n",
    "#          'UPDRS.IV_pre_on', 'HY_pre_on','HY_pre_off', 'LED_pre' (in mg)]\n",
    "\n",
    "patient = [[ 1,  58,   5,  53,  0, 14,  20.5, -3.5,   1. , 3. ,   2.5, 981.  ],]\n",
    "\n",
    "# example: [ 1,  58,   5,  53,  0, 14,  20.5, -3.5,   1. , 3. ,   2.5, 981.  ]\n"
   ]
  },
  {
   "cell_type": "code",
   "execution_count": 4,
   "metadata": {},
   "outputs": [
    {
     "name": "stdout",
     "output_type": "stream",
     "text": [
      "Probability for being a weak responder is 0.635698\n"
     ]
    }
   ],
   "source": [
    "probas = est.predict_proba(patient)\n",
    "print('Probability for being a weak responder is %f' %(probas[0][1]))"
   ]
  }
 ],
 "metadata": {
  "kernelspec": {
   "display_name": "Python 3",
   "language": "python",
   "name": "python3"
  },
  "language_info": {
   "codemirror_mode": {
    "name": "ipython",
    "version": 3
   },
   "file_extension": ".py",
   "mimetype": "text/x-python",
   "name": "python",
   "nbconvert_exporter": "python",
   "pygments_lexer": "ipython3",
   "version": "3.7.3"
  }
 },
 "nbformat": 4,
 "nbformat_minor": 2
}
