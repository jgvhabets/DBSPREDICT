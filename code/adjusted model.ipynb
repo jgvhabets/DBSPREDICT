{
 "cells": [
  {
   "cell_type": "code",
   "execution_count": 2,
   "metadata": {},
   "outputs": [
    {
     "name": "stderr",
     "output_type": "stream",
     "text": [
      "/Users/jeroenhabets/anaconda3/lib/python3.7/site-packages/statsmodels/tools/_testing.py:19: FutureWarning: pandas.util.testing is deprecated. Use the functions in the public API at pandas.testing instead.\n",
      "  import pandas.util.testing as tm\n"
     ]
    }
   ],
   "source": [
    "import pandas as pd\n",
    "import numpy as np\n",
    "from sklearn.linear_model import LogisticRegression\n",
    "import pickle\n",
    "import os\n",
    "import seaborn as sns\n",
    "import matplotlib.pyplot as plt"
   ]
  },
  {
   "cell_type": "code",
   "execution_count": 3,
   "metadata": {},
   "outputs": [
    {
     "data": {
      "text/plain": [
       "'/Users/jeroenhabets/Desktop/python_code/DBS_ML_prediction/DBSPREDICT'"
      ]
     },
     "execution_count": 3,
     "metadata": {},
     "output_type": "execute_result"
    }
   ],
   "source": [
    "path=\"/Users/jeroenhabets/Desktop/python_code/DBS_ML_prediction/DBSPREDICT\"\n",
    "\n",
    "os.chdir(path)\n",
    "os.getcwd() #check"
   ]
  },
  {
   "cell_type": "markdown",
   "metadata": {},
   "source": [
    "# Adjusted based on feasibility of data collection.\n",
    "\n",
    "DBSPREDICT model retrained on identical data set, without neuropsychological variables and without UPDRS I."
   ]
  },
  {
   "cell_type": "code",
   "execution_count": 6,
   "metadata": {},
   "outputs": [
    {
     "name": "stderr",
     "output_type": "stream",
     "text": [
      "/Users/jeroenhabets/anaconda3/lib/python3.7/site-packages/sklearn/linear_model/logistic.py:947: ConvergenceWarning: lbfgs failed to converge. Increase the number of iterations.\n",
      "  \"of iterations.\", ConvergenceWarning)\n"
     ]
    },
    {
     "data": {
      "text/plain": [
       "LogisticRegression(C=1.0, class_weight=None, dual=False, fit_intercept=True,\n",
       "                   intercept_scaling=1, l1_ratio=None, max_iter=100,\n",
       "                   multi_class='warn', n_jobs=None, penalty='l2',\n",
       "                   random_state=None, solver='lbfgs', tol=0.0001, verbose=0,\n",
       "                   warm_start=False)"
      ]
     },
     "execution_count": 6,
     "metadata": {},
     "output_type": "execute_result"
    }
   ],
   "source": [
    "# reading in pre-processed data; make sure file is in same filder as this Jupyter-notebook\n",
    "data = pd.read_csv(os.path.join(path,'data','n90data.csv'))\n",
    "\n",
    "# determining preoperative variables that are used as predictors\n",
    "preds = [ 'Gender', 'Age_DBS', 'Disease_duration', 'Age_disease_onset',\n",
    "            'UPDRS.II_pre_on', \n",
    "         'UPDRS.III_pre_on','UPDRS.III_pre_LEDdif'   , \n",
    "         'UPDRS.IV_pre_on', 'HY_pre_on','HY_pre_off', 'LED_pre',   ]\n",
    "# disease duration is in years\n",
    "\n",
    "# set Logistic Regression as estimator to train the model\n",
    "est=LogisticRegression(solver='lbfgs') \n",
    "\n",
    "# input data: preoperative variables\n",
    "x=data[preds].values\n",
    "\n",
    "# predicting probability for outcome A = weak responders\n",
    "y=data['outcomeGroup']=='A'\n",
    "\n",
    "# train model\n",
    "est.fit(x,y)\n",
    "\n",
    "# # save model\n",
    "# filename = 'prediction_model2.sav'\n",
    "# pickle.dump(est, open(filename, 'wb'))\n",
    "\n",
    "# filename = 'DBS_PREDICT_2019.sav'\n",
    "# pickle.dump(est, open(filename, 'wb'))\n"
   ]
  },
  {
   "cell_type": "code",
   "execution_count": 11,
   "metadata": {},
   "outputs": [],
   "source": [
    "labels =  [ 'Gender', 'Age_DBS', 'Disease_duration', 'Age_disease_onset',\n",
    "            'UPDRS.II_pre_on', \n",
    "         'UPDRS.III_pre_on','UPDRS.III_pre_LEDdif'   , \n",
    "         'UPDRS.IV_pre_on', 'HY_pre_on','HY_pre_off', 'LED_pre',   ]\n",
    "\n",
    "weights = est.coef_\n",
    "\n",
    "\n",
    "sns.set_context('paper')\n",
    "fig, ax= plt.subplots(figsize=(12,6))\n",
    "\n",
    "w = (np.exp(np.mean(weights, axis=0))-1)*100\n",
    "yerr=(np.exp(np.std(weights, axis=0))-1) * 100\n",
    "s = np.argsort(w)\n",
    "\n",
    "ax.bar(np.arange(len(preds)),w[s], yerr=yerr[s])\n",
    "plt.ylim(-40,20)\n",
    "plt.xticks(np.arange(len(preds)), np.array(labels)[s], rotation='30',ha='right',fontsize=18)\n",
    "plt.yticks([-20,0,20], ['Strong \\nMotor Response', 'Neutral',\n",
    "                        'Weak \\nMotor Response'], fontsize=18)\n",
    "plt.grid()\n",
    "plt.ylabel('Relative Influence (a.u. or %)\\n', fontsize=18)\n",
    "plt.title('Importance of predictive variables in model\\n', fontsize=24)\n",
    "sns.despine()\n",
    "plt.tight_layout()\n",
    "# plt.show()\n",
    "plt.close()\n"
   ]
  }
 ],
 "metadata": {
  "kernelspec": {
   "display_name": "Python 3",
   "language": "python",
   "name": "python3"
  },
  "language_info": {
   "codemirror_mode": {
    "name": "ipython",
    "version": 3
   },
   "file_extension": ".py",
   "mimetype": "text/x-python",
   "name": "python",
   "nbconvert_exporter": "python",
   "pygments_lexer": "ipython3",
   "version": "3.7.3"
  }
 },
 "nbformat": 4,
 "nbformat_minor": 2
}
