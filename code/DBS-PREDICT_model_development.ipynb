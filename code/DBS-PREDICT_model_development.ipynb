{
 "cells": [
  {
   "cell_type": "code",
   "execution_count": 1,
   "metadata": {},
   "outputs": [],
   "source": [
    "import pandas as pd\n",
    "import numpy as np\n",
    "from sklearn.linear_model import LogisticRegression\n",
    "import pickle"
   ]
  },
  {
   "cell_type": "code",
   "execution_count": 2,
   "metadata": {},
   "outputs": [],
   "source": [
    "# reading in pre-processed data; make sure file is in same filder as this Jupyter-notebook\n",
    "data = pd.read_csv('stnOnOn.csv')\n",
    "\n",
    "# determining preoperative variables that are used as predictors\n",
    "preds = [ 'Gender', 'Age_DBS', 'Disease_duration', 'Age_disease_onset',\n",
    "         'UPDRS.I_pre_on',   'UPDRS.II_pre_on', \n",
    "         'UPDRS.III_pre_on','UPDRS.III_pre_LEDdif'   , \n",
    "         'UPDRS.IV_pre_on', 'HY_pre_on','HY_pre_off', 'LED_pre',   ]\n"
   ]
  },
  {
   "cell_type": "code",
   "execution_count": 4,
   "metadata": {},
   "outputs": [
    {
     "name": "stderr",
     "output_type": "stream",
     "text": [
      "/Users/jeroenhabets/anaconda3/lib/python3.7/site-packages/sklearn/linear_model/logistic.py:947: ConvergenceWarning: lbfgs failed to converge. Increase the number of iterations.\n",
      "  \"of iterations.\", ConvergenceWarning)\n"
     ]
    }
   ],
   "source": [
    "# set Logistic Regression as estimator to train the model\n",
    "est=LogisticRegression(solver='lbfgs') \n",
    "\n",
    "# input data: preoperative variables\n",
    "x=data[preds].values\n",
    "\n",
    "# predicting probability for outcome A = weak responders\n",
    "y=data['outcomeGroup']=='A'\n",
    "\n",
    "# train model\n",
    "est.fit(x,y)\n",
    "\n",
    "# save model\n",
    "filename = 'prediction_model.sav'\n",
    "pickle.dump(est, open(filename, 'wb'))"
   ]
  }
 ],
 "metadata": {
  "kernelspec": {
   "display_name": "Python 3",
   "language": "python",
   "name": "python3"
  },
  "language_info": {
   "codemirror_mode": {
    "name": "ipython",
    "version": 3
   },
   "file_extension": ".py",
   "mimetype": "text/x-python",
   "name": "python",
   "nbconvert_exporter": "python",
   "pygments_lexer": "ipython3",
   "version": "3.7.3"
  }
 },
 "nbformat": 4,
 "nbformat_minor": 2
}
